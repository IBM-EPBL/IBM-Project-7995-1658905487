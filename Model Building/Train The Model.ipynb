{
  "nbformat": 4,
  "nbformat_minor": 0,
  "metadata": {
    "colab": {
      "provenance": [],
      "collapsed_sections": [],
      "toc_visible": true
    },
    "kernelspec": {
      "name": "python3",
      "display_name": "Python 3"
    },
    "language_info": {
      "name": "python"
    }
  },
  "cells": [
    {
      "cell_type": "markdown",
      "source": [
        "    TITLE                         TRAIN THE MODEL\n",
        "\n",
        "    TEAM ID                       PNT2022TMID05115"
      ],
      "metadata": {
        "id": "vhcIWBE699_c"
      }
    },
    {
      "cell_type": "code",
      "source": [
        "import numpy as np\n",
        "import tensorflow\n",
        "from tensorflow.keras.models import Sequential\n",
        "from tensorflow.keras import layers\n",
        "from tensorflow.keras.layers import Dense,Flatten\n",
        "from tensorflow.keras.layers import Conv2D,MaxPooling2D,Dropout\n",
        "from keras.preprocessing.image import ImageDataGenerator"
      ],
      "metadata": {
        "id": "f7H_o9OAhvRH"
      },
      "execution_count": null,
      "outputs": []
    },
    {
      "cell_type": "code",
      "source": [
        "model=Sequential()"
      ],
      "metadata": {
        "id": "GfzugUrei0A4"
      },
      "execution_count": null,
      "outputs": []
    },
    {
      "cell_type": "code",
      "source": [
        "from google.colab import drive\n",
        "drive.mount('/content/drive')"
      ],
      "metadata": {
        "colab": {
          "base_uri": "https://localhost:8080/"
        },
        "id": "RJvvhFdmjPyP",
        "outputId": "6ed2e821-0628-4d4a-f5d9-aaa0f4e0fa66"
      },
      "execution_count": null,
      "outputs": [
        {
          "output_type": "stream",
          "name": "stdout",
          "text": [
            "Mounted at /content/drive\n"
          ]
        }
      ]
    },
    {
      "cell_type": "code",
      "source": [
        "train_datagen = ImageDataGenerator(rescale=1./255,shear_range=0.2,zoom_range=0.2,horizontal_flip=True)\n",
        "test_datagen = ImageDataGenerator(rescale=1./255)"
      ],
      "metadata": {
        "id": "ktKXDGqgjjno"
      },
      "execution_count": null,
      "outputs": []
    },
    {
      "cell_type": "code",
      "source": [
        "#performing data augmentation to test the data\n",
        "x_train=train_datagen.flow_from_directory(r'/content/drive/MyDrive/TRAIN_SET',target_size=(64,64),batch_size=5,color_mode='rgb',class_mode = 'sparse')"
      ],
      "metadata": {
        "colab": {
          "base_uri": "https://localhost:8080/"
        },
        "id": "DEZgwSvQjrun",
        "outputId": "e96166dd-184c-4418-8528-a4d342e0f6a5"
      },
      "execution_count": null,
      "outputs": [
        {
          "output_type": "stream",
          "name": "stdout",
          "text": [
            "Found 2626 images belonging to 5 classes.\n"
          ]
        }
      ]
    },
    {
      "cell_type": "code",
      "source": [
        "model.add(Conv2D(32, (3, 3), input_shape=(64, 64, 3), activation='relu'))\n",
        "model.add(MaxPooling2D(pool_size=(2, 2)))"
      ],
      "metadata": {
        "id": "k2j8QQyHkjkA"
      },
      "execution_count": null,
      "outputs": []
    },
    {
      "cell_type": "code",
      "source": [
        "model.add(Conv2D(32, (3, 3), activation='relu'))"
      ],
      "metadata": {
        "id": "oeoDsI8xklZU"
      },
      "execution_count": null,
      "outputs": []
    },
    {
      "cell_type": "code",
      "source": [
        "model.add(MaxPooling2D(pool_size=(2, 2)))"
      ],
      "metadata": {
        "id": "kS5sDjBIkpfR"
      },
      "execution_count": null,
      "outputs": []
    },
    {
      "cell_type": "code",
      "source": [
        "model.add(Flatten())"
      ],
      "metadata": {
        "id": "srb17lnwkvbA"
      },
      "execution_count": null,
      "outputs": []
    },
    {
      "cell_type": "code",
      "source": [
        "model.add(Dense(units=128, activation='relu'))\n",
        "model.add(Dense(units=5, activation='softmax'))"
      ],
      "metadata": {
        "id": "RF42NFHykwx3"
      },
      "execution_count": null,
      "outputs": []
    },
    {
      "cell_type": "code",
      "source": [
        "model.summary()"
      ],
      "metadata": {
        "colab": {
          "base_uri": "https://localhost:8080/"
        },
        "id": "bFZLvcoWk0I2",
        "outputId": "394386f5-04f4-4db8-81a2-d844b2bec062"
      },
      "execution_count": null,
      "outputs": [
        {
          "output_type": "stream",
          "name": "stdout",
          "text": [
            "Model: \"sequential\"\n",
            "_________________________________________________________________\n",
            " Layer (type)                Output Shape              Param #   \n",
            "=================================================================\n",
            " conv2d (Conv2D)             (None, 62, 62, 32)        896       \n",
            "                                                                 \n",
            " max_pooling2d (MaxPooling2D  (None, 31, 31, 32)       0         \n",
            " )                                                               \n",
            "                                                                 \n",
            " conv2d_1 (Conv2D)           (None, 29, 29, 32)        9248      \n",
            "                                                                 \n",
            " max_pooling2d_1 (MaxPooling  (None, 14, 14, 32)       0         \n",
            " 2D)                                                             \n",
            "                                                                 \n",
            " flatten (Flatten)           (None, 6272)              0         \n",
            "                                                                 \n",
            " dense (Dense)               (None, 128)               802944    \n",
            "                                                                 \n",
            " dense_1 (Dense)             (None, 5)                 645       \n",
            "                                                                 \n",
            "=================================================================\n",
            "Total params: 813,733\n",
            "Trainable params: 813,733\n",
            "Non-trainable params: 0\n",
            "_________________________________________________________________\n"
          ]
        }
      ]
    },
    {
      "cell_type": "code",
      "source": [
        "x_test=test_datagen.flow_from_directory(r\"/content/drive/MyDrive/TEST_SET\",target_size=(64,64),batch_size=5,color_mode='rgb',class_mode='sparse')"
      ],
      "metadata": {
        "colab": {
          "base_uri": "https://localhost:8080/"
        },
        "id": "Ng6OoyaPuGJH",
        "outputId": "0f54940e-adad-412f-f5a8-ab2a54c15d85"
      },
      "execution_count": null,
      "outputs": [
        {
          "output_type": "stream",
          "name": "stdout",
          "text": [
            "Found 1055 images belonging to 5 classes.\n"
          ]
        }
      ]
    },
    {
      "cell_type": "code",
      "source": [
        "model.compile(optimizer='adam', loss='sparse_categorical_crossentropy', metrics=['accuracy'])"
      ],
      "metadata": {
        "id": "1F_gmb-putz6"
      },
      "execution_count": null,
      "outputs": []
    },
    {
      "cell_type": "code",
      "source": [
        "len(x_train)"
      ],
      "metadata": {
        "colab": {
          "base_uri": "https://localhost:8080/"
        },
        "id": "4c-gsi7RugVp",
        "outputId": "96d34ec1-9b45-4c5c-fb37-7761493d84f1"
      },
      "execution_count": null,
      "outputs": [
        {
          "output_type": "execute_result",
          "data": {
            "text/plain": [
              "526"
            ]
          },
          "metadata": {},
          "execution_count": 28
        }
      ]
    },
    {
      "cell_type": "code",
      "source": [
        "model.fit(x_train,epochs=10,steps_per_epoch=len(x_train),validation_data=x_test,validation_steps=len(x_test))"
      ],
      "metadata": {
        "colab": {
          "base_uri": "https://localhost:8080/"
        },
        "id": "erNujT5PudVf",
        "outputId": "b2dced92-98ee-45c0-ad1a-4956229b9a25"
      },
      "execution_count": null,
      "outputs": [
        {
          "output_type": "stream",
          "name": "stdout",
          "text": [
            "Epoch 1/10\n",
            "526/526 [==============================] - 825s 2s/step - loss: 0.1684 - accuracy: 0.9368 - val_loss: 0.0296 - val_accuracy: 0.9886\n",
            "Epoch 2/10\n",
            "526/526 [==============================] - 32s 61ms/step - loss: 0.0025 - accuracy: 0.9992 - val_loss: 0.0564 - val_accuracy: 0.9773\n",
            "Epoch 3/10\n",
            "526/526 [==============================] - 32s 60ms/step - loss: 0.0259 - accuracy: 0.9909 - val_loss: 0.0774 - val_accuracy: 0.9649\n",
            "Epoch 4/10\n",
            "526/526 [==============================] - 33s 63ms/step - loss: 6.0892e-04 - accuracy: 1.0000 - val_loss: 0.0068 - val_accuracy: 0.9991\n",
            "Epoch 5/10\n",
            "526/526 [==============================] - 30s 57ms/step - loss: 8.0340e-05 - accuracy: 1.0000 - val_loss: 0.0099 - val_accuracy: 0.9972\n",
            "Epoch 6/10\n",
            "526/526 [==============================] - 32s 61ms/step - loss: 2.6117e-05 - accuracy: 1.0000 - val_loss: 0.0237 - val_accuracy: 0.9886\n",
            "Epoch 7/10\n",
            "526/526 [==============================] - 32s 60ms/step - loss: 1.1436e-05 - accuracy: 1.0000 - val_loss: 0.0201 - val_accuracy: 0.9896\n",
            "Epoch 8/10\n",
            "526/526 [==============================] - 30s 57ms/step - loss: 4.8956e-04 - accuracy: 0.9996 - val_loss: 0.0383 - val_accuracy: 0.9773\n",
            "Epoch 9/10\n",
            "526/526 [==============================] - 30s 57ms/step - loss: 0.0854 - accuracy: 0.9844 - val_loss: 0.1297 - val_accuracy: 0.9592\n",
            "Epoch 10/10\n",
            "526/526 [==============================] - 32s 60ms/step - loss: 5.3805e-05 - accuracy: 1.0000 - val_loss: 0.1418 - val_accuracy: 0.9592\n"
          ]
        },
        {
          "output_type": "execute_result",
          "data": {
            "text/plain": [
              "<keras.callbacks.History at 0x7f319218e0d0>"
            ]
          },
          "metadata": {},
          "execution_count": 31
        }
      ]
    },
    {
      "cell_type": "code",
      "source": [
        "#check no of classes\n",
        "print(x_train.class_indices)"
      ],
      "metadata": {
        "id": "dqi6Nn-Yu2zx"
      },
      "execution_count": null,
      "outputs": []
    },
    {
      "cell_type": "code",
      "source": [],
      "metadata": {
        "id": "lL28cseBu3tT"
      },
      "execution_count": null,
      "outputs": []
    }
  ]
}