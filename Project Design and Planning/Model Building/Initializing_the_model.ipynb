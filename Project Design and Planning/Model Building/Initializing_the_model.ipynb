{
  "nbformat": 4,
  "nbformat_minor": 0,
  "metadata": {
    "colab": {
      "provenance": [],
      "collapsed_sections": [],
      "toc_visible": true
    },
    "kernelspec": {
      "name": "python3",
      "display_name": "Python 3"
    },
    "language_info": {
      "name": "python"
    }
  },
  "cells": [
    {
      "cell_type": "markdown",
      "source": [
        "    TITLE                               INITIALIZING THE MODEL\n",
        "\n",
        "    TEAM ID                             PNT2022TMID05115\n",
        "\n",
        "\n",
        "                                         "
      ],
      "metadata": {
        "id": "Qjw5ZZQJ5SVV"
      }
    },
    {
      "cell_type": "code",
      "execution_count": null,
      "metadata": {
        "id": "j15qoXfdn3Ke"
      },
      "outputs": [],
      "source": [
        "#importing the model building libraries\n",
        "import numpy as np\n",
        "import tensorflow\n",
        "from tensorflow.keras.models import Sequential\n",
        "from tensorflow.keras import layers\n",
        "from tensorflow.keras.layers import Dense,Flatten\n",
        "from tensorflow.keras.layers import Conv2D,MaxPooling2D,Dropout\n",
        "from keras.preprocessing.image import ImageDataGenerator"
      ]
    },
    {
      "cell_type": "code",
      "source": [
        "#initialize the model\n",
        "model=Sequential()"
      ],
      "metadata": {
        "id": "FkkfesDfn6U7"
      },
      "execution_count": null,
      "outputs": []
    }
  ]
}